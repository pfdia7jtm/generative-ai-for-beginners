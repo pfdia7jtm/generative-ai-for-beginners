{
 "cells": [
  {
   "cell_type": "markdown",
   "metadata": {},
   "source": [
    "# Scratchpad for Unit 5"
   ]
  },
  {
   "cell_type": "code",
   "execution_count": 1,
   "metadata": {},
   "outputs": [
    {
     "name": "stdout",
     "output_type": "stream",
     "text": [
      "red fish, blue fish\n"
     ]
    }
   ],
   "source": [
    "# The OpenAI SDK was updated on Nov 8, 2023 with new guidance for migration\n",
    "# See: https://github.com/openai/openai-python/discussions/742\n",
    "\n",
    "## Updated\n",
    "import os\n",
    "from openai import OpenAI\n",
    "from dotenv import load_dotenv\n",
    "load_dotenv()\n",
    "\n",
    "client = OpenAI()\n",
    "model_to_use = 'gpt-3.5-turbo'\n",
    "\n",
    "## Updated\n",
    "def get_completion(prompt):\n",
    "    messages = [{\"role\": \"user\", \"content\": prompt}]       \n",
    "    response = client.chat.completions.create(   \n",
    "        model=model_to_use,                                         \n",
    "        messages=messages,\n",
    "        temperature=0, # this is the degree of randomness of the model's output\n",
    "        max_tokens=1024\n",
    "    )\n",
    "    return response.choices[0].message.content\n",
    "\n",
    "## ---------- Call the helper method\n",
    "\n",
    "### 1. Set primary content or prompt text\n",
    "text = f\"\"\"\n",
    "one fish, two fish\n",
    "\"\"\"\n",
    "\n",
    "### 2. Use that in the prompt template below\n",
    "prompt = f\"\"\"\n",
    "```{text}```\n",
    "\"\"\"\n",
    "\n",
    "## 3. Run the prompt\n",
    "response = get_completion(prompt)\n",
    "print(response)"
   ]
  },
  {
   "cell_type": "code",
   "execution_count": 2,
   "metadata": {},
   "outputs": [
    {
     "name": "stdout",
     "output_type": "stream",
     "text": [
      "Sure! Here's an example of how you can create a simple Python Web API using Flask with routes for \"bikes\" and \"wheels\":\n",
      "\n",
      "```python\n",
      "from flask import Flask, jsonify\n",
      "\n",
      "app = Flask(__name__)\n",
      "\n",
      "@app.route('/bikes', methods=['GET'])\n",
      "def get_bikes():\n",
      "    bikes = [\n",
      "        {'id': 1, 'brand': 'Cannondale', 'model': 'Synapse'},\n",
      "        {'id': 2, 'brand': 'Trek', 'model': 'Madone'},\n",
      "        {'id': 3, 'brand': 'Specialized', 'model': 'Roubaix'}\n",
      "    ]\n",
      "    return jsonify(bikes)\n",
      "\n",
      "@app.route('/wheels', methods=['GET'])\n",
      "def get_wheels():\n",
      "    wheels = [\n",
      "        {'id': 1, 'brand': 'Shimano', 'model': 'Dura-Ace'},\n",
      "        {'id': 2, 'brand': 'Mavic', 'model': 'Cosmic'},\n",
      "        {'id': 3, 'brand': 'Zipp', 'model': '404'}\n",
      "    ]\n",
      "    return jsonify(wheels)\n",
      "\n",
      "if __name__ == '__main__':\n",
      "    app.run(debug=True)\n",
      "```\n",
      "\n",
      "You can save this code to a Python file (e.g., `app.py`) and run it. When you navigate to `http://127.0.0.1:5000/bikes` in your browser, you will see a JSON response with a list of bikes. Similarly, navigating to `http://127.0.0.1:5000/wheels` will return a JSON response with a list of wheels.\n",
      "\n",
      "Please make sure you have Flask installed (`pip install Flask`) before running the code. Also, remember that this is a basic example for demonstration purposes, and you may need to expand it based on your specific requirements.\n"
     ]
    }
   ],
   "source": [
    "response = client.chat.completions.create(\n",
    "    model=model_to_use,\n",
    "    messages=[\n",
    "        {\"role\": \"system\", \"content\": \"You are an expert python software engineer\"},\n",
    "        {\"role\": \"user\", \"content\": \"Create a Python Web API with routes bikes and wheels\"}\n",
    "    ]\n",
    ")\n",
    "print(response.choices[0].message.content)"
   ]
  }
 ],
 "metadata": {
  "kernelspec": {
   "display_name": ".venv",
   "language": "python",
   "name": "python3"
  },
  "language_info": {
   "codemirror_mode": {
    "name": "ipython",
    "version": 3
   },
   "file_extension": ".py",
   "mimetype": "text/x-python",
   "name": "python",
   "nbconvert_exporter": "python",
   "pygments_lexer": "ipython3",
   "version": "3.12.2"
  }
 },
 "nbformat": 4,
 "nbformat_minor": 2
}
